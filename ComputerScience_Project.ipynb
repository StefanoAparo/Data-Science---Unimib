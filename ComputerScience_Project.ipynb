{
 "cells": [
  {
   "cell_type": "code",
   "execution_count": null,
   "metadata": {},
   "outputs": [],
   "source": [
    "import pandas as pd\n",
    "import numpy as np\n",
    "import re\n",
    "from string import *\n",
    "\n",
    "#Loading csv files directly from the Github website\n",
    "play_store = pd.read_csv(\"https://raw.githubusercontent.com/gdv/foundationsCS-2018/master/ex-data/project/googleplaystore.csv\")\n",
    "play_store_reviews = pd.read_csv(\"https://raw.githubusercontent.com/gdv/foundationsCS-2018/master/ex-data/project/googleplaystore_user_reviews.csv\")\n",
    "\n",
    "play_store = play_store.drop(play_store[play_store.Category == '1.9'].index)"
   ]
  },
  {
   "cell_type": "markdown",
   "metadata": {},
   "source": [
    "# 1. Convert the app sizes to a number"
   ]
  },
  {
   "cell_type": "code",
   "execution_count": null,
   "metadata": {},
   "outputs": [],
   "source": [
    "m = re.compile('[0-9]M')\n",
    "k = re.compile('[0-9]k')\n",
    "\n",
    "size_len = len(play_store['Size'])\n",
    "sizes = list(play_store['Size'])\n",
    "\n",
    "for i in range(0, size_len):\n",
    "    old = sizes[i]\n",
    "    if(re.search(m, old) != None): #abbiamo trovato il pattern 'xxM'\n",
    "        sizes[i] = float(old.split('M')[0])*1000000\n",
    "    else:\n",
    "        if(re.search(k, old) != None):\n",
    "            sizes[i] = float(old.split('k')[0])*1000\n",
    "            \n",
    "play_store['Size'] = sizes"
   ]
  },
  {
   "cell_type": "markdown",
   "metadata": {},
   "source": [
    "# 2. Convert the number of installs to a number"
   ]
  },
  {
   "cell_type": "code",
   "execution_count": null,
   "metadata": {},
   "outputs": [],
   "source": [
    "inst = list(play_store['Installs'])\n",
    "inst_len = len(play_store['Installs'])"
   ]
  },
  {
   "cell_type": "code",
   "execution_count": null,
   "metadata": {},
   "outputs": [],
   "source": [
    "for i in range(0, inst_len):\n",
    "    x = (inst[i].split('+')[0])\n",
    "    inst[i] = x.replace(',', '')\n",
    "        \n",
    "for i in range(0, inst_len):\n",
    "    inst[i] = int(inst[i])\n",
    "    \n",
    "play_store[\"Installs\"] = inst"
   ]
  },
  {
   "cell_type": "markdown",
   "metadata": {},
   "source": [
    "# 3. Transform “Varies with device” into a missing value"
   ]
  },
  {
   "cell_type": "code",
   "execution_count": null,
   "metadata": {},
   "outputs": [],
   "source": [
    "play_store = play_store.replace('Varies with device', 'NaN')"
   ]
  },
  {
   "cell_type": "markdown",
   "metadata": {},
   "source": [
    "# 4. Convert Current Ver and Android Ver into a dotted number (e.g. 4.0.3 or 4.2)"
   ]
  },
  {
   "cell_type": "code",
   "execution_count": null,
   "metadata": {},
   "outputs": [],
   "source": [
    "cur_ver = list(play_store['Current Ver'])\n",
    "andr_ver = list(play_store['Android Ver'])\n",
    "\n",
    "for i in range(0, len(cur_ver)):\n",
    "    if(re.search(re.compile('[0-9][.][0-9]([.][0-9])*'), str(cur_ver[i])) != None):\n",
    "        cur_ver[i] = cur_ver[i].replace(cur_ver[i], re.search(re.compile('[0-9][.][0-9]([.][0-9])*'), cur_ver[i]).group(0))\n",
    "        \n",
    "for i in range(0, len(andr_ver)):\n",
    "    if(re.search(re.compile('[0-9][.][0-9]([.][0-9])*'), str(andr_ver[i])) != None):\n",
    "        andr_ver[i] = andr_ver[i].replace(andr_ver[i], re.search(re.compile('[0-9][.][0-9]([.][0-9])*'), andr_ver[i]).group(0))\n",
    "        \n",
    "play_store['Current Ver'] = cur_ver\n",
    "play_store['Android Ver'] = andr_ver"
   ]
  },
  {
   "cell_type": "markdown",
   "metadata": {},
   "source": [
    "# 5. Remove the duplicates"
   ]
  },
  {
   "cell_type": "code",
   "execution_count": null,
   "metadata": {},
   "outputs": [],
   "source": [
    "#number of duplicates\n",
    "play_store.duplicated().sum()\n",
    "\n",
    "play_store = play_store.drop_duplicates(subset=None, keep='first', inplace=False) #eliminate i duplicati delle righe identiche"
   ]
  },
  {
   "cell_type": "code",
   "execution_count": null,
   "metadata": {},
   "outputs": [],
   "source": [
    "play_store = play_store.sort_values(by = ['App', 'Reviews'], ascending=False).drop_duplicates('App', keep = 'first', inplace = False).sort_index().reset_index(drop=True)"
   ]
  },
  {
   "cell_type": "markdown",
   "metadata": {},
   "source": [
    "# 6. For each category, compute the number of apps"
   ]
  },
  {
   "cell_type": "code",
   "execution_count": null,
   "metadata": {},
   "outputs": [],
   "source": [
    "play_store[[\"App\"]].groupby(play_store[\"Category\"]).count()"
   ]
  },
  {
   "cell_type": "markdown",
   "metadata": {},
   "source": [
    "# 7. For each category, compute the average rating"
   ]
  },
  {
   "cell_type": "code",
   "execution_count": null,
   "metadata": {},
   "outputs": [],
   "source": [
    "play_store[[\"Rating\"]].groupby(play_store[\"Category\"]).mean()"
   ]
  },
  {
   "cell_type": "markdown",
   "metadata": {},
   "source": [
    "# 8. Create two dataframes: one for the genres and one bridging apps and genres. So that, for instance, the app Pixel Draw - Number Art Coloring Book appears twice in the bridging table, once for Art & Design, once for Creativity"
   ]
  },
  {
   "cell_type": "code",
   "execution_count": null,
   "metadata": {},
   "outputs": [],
   "source": [
    "#Creazione df dei generi\n",
    "genres = list(set(play_store['Genres']))\n",
    "genres_len = len(genres)\n",
    "for i in range(0, genres_len):\n",
    "    if(re.search(re.compile('[;]'), genres[i])):\n",
    "        x = genres[i]\n",
    "        genres[i] = x.split(';')[0]\n",
    "        genres.append(x.split(';')[1])\n",
    "        \n",
    "genres = list(set(genres))\n",
    "genres_len = len(genres)\n",
    "genres_df = pd.DataFrame(genres, columns = ['Genre'])\n",
    "\n",
    "\n",
    "#creazione df app e generi\n",
    "apps_genres_df = pd.DataFrame(columns=[\"App\", \"Genre\"])\n",
    "for i in play_store.values:\n",
    "    for j in i[9].split(\";\"): \n",
    "        x = pd.Series([i[0], j], index = apps_genres_df.columns)\n",
    "        apps_genres_df = apps_genres_df.append(x, ignore_index = True)\n"
   ]
  },
  {
   "cell_type": "markdown",
   "metadata": {},
   "source": [
    "# 9. For each genre, create a new column of the original dataframe. The new columns must have boolean values (True if the app has a given genre)"
   ]
  },
  {
   "cell_type": "code",
   "execution_count": null,
   "metadata": {},
   "outputs": [],
   "source": [
    "bool_genres = pd.DataFrame()\n",
    "for i in range(0, genres_len):\n",
    "    x = pd.DataFrame(data = np.full(shape = len(play_store['Genres']), fill_value = False, dtype = bool), columns = [str(genres[i])])\n",
    "    bool_genres = pd.concat([bool_genres, x], axis = 1)\n",
    "    \n",
    "play_store = play_store.join(bool_genres, sort = False)\n"
   ]
  },
  {
   "cell_type": "code",
   "execution_count": null,
   "metadata": {},
   "outputs": [],
   "source": [
    "pd.options.mode.chained_assignment = None  # default='warn'\n",
    "\n",
    "for i in range(0, len(play_store['App'])):\n",
    "    if(re.search(re.compile('[;]'), (play_store['Genres'][i]))):\n",
    "        play_store[str(play_store['Genres'][i].split(';')[0])][i] = True\n",
    "        play_store[str(play_store['Genres'][i].split(';')[1])][i] = True\n",
    "    else:\n",
    "        play_store[str(play_store['Genres'][i])][i] = True    "
   ]
  },
  {
   "cell_type": "markdown",
   "metadata": {},
   "source": [
    "# 10. For each genre, compute the average rating. What is the genre with highest average?"
   ]
  },
  {
   "cell_type": "code",
   "execution_count": null,
   "metadata": {},
   "outputs": [],
   "source": [
    "apps_genres_df.join(play_store[\"Rating\"], sort = False)[[\"Rating\"]].groupby(apps_genres_df[\"Genre\"]).mean()"
   ]
  },
  {
   "cell_type": "markdown",
   "metadata": {},
   "source": [
    "# 11. For each app, compute the approximate income, obtain as a product of number of installs and price"
   ]
  },
  {
   "cell_type": "code",
   "execution_count": null,
   "metadata": {},
   "outputs": [],
   "source": [
    "play_store[\"Income\"] = pd.Series()\n",
    "for i in range(0, len(play_store['Price'])):\n",
    "    play_store[\"Income\"][i] = play_store[\"Installs\"][i] * float(play_store[\"Price\"][i].replace('$', ''))"
   ]
  },
  {
   "cell_type": "markdown",
   "metadata": {},
   "source": [
    "# 12. For each app, compute its minimum and maximum Sentiment_polarity"
   ]
  },
  {
   "cell_type": "code",
   "execution_count": null,
   "metadata": {},
   "outputs": [],
   "source": [
    "play_store_reviews[[\"Sentiment_Polarity\"]].groupby(play_store_reviews['App']).min()"
   ]
  },
  {
   "cell_type": "code",
   "execution_count": null,
   "metadata": {},
   "outputs": [],
   "source": [
    "play_store_reviews[[\"Sentiment_Polarity\"]].groupby(play_store_reviews['App']).max()"
   ]
  },
  {
   "cell_type": "code",
   "execution_count": null,
   "metadata": {},
   "outputs": [],
   "source": []
  }
 ],
 "metadata": {
  "kernelspec": {
   "display_name": "Python 3",
   "language": "python",
   "name": "python3"
  },
  "language_info": {
   "codemirror_mode": {
    "name": "ipython",
    "version": 3
   },
   "file_extension": ".py",
   "mimetype": "text/x-python",
   "name": "python",
   "nbconvert_exporter": "python",
   "pygments_lexer": "ipython3",
   "version": "3.7.0"
  }
 },
 "nbformat": 4,
 "nbformat_minor": 2
}
